{
 "cells": [
  {
   "cell_type": "code",
   "execution_count": 2,
   "metadata": {},
   "outputs": [],
   "source": [
    "const Git = require('nodegit');"
   ]
  },
  {
   "cell_type": "code",
   "execution_count": 17,
   "metadata": {},
   "outputs": [
    {
     "data": {
      "text/plain": [
       "Promise { _55: 0, _87: null, _28: [] }"
      ]
     },
     "execution_count": 17,
     "metadata": {},
     "output_type": "execute_result"
    },
    {
     "name": "stdout",
     "output_type": "stream",
     "text": [
      "[\n",
      "  Reference {},\n",
      "  Reference {},\n",
      "  Reference {},\n",
      "  Reference {},\n",
      "  Reference {},\n",
      "  Reference {}\n",
      "]\n"
     ]
    }
   ],
   "source": [
    "Git.Repository.open('.').then((repo) => {\n",
    "    repo.getReferences().then(names => {\n",
    "        console.log(names);\n",
    "    });\n",
    "    const walker = Git.Revwalk.create(repo);\n",
    "    return walker;\n",
    "})\n",
    ".then((walker) => {\n",
    "    walker.pushGlob('refs/heads/*');\n",
    "    walker.sorting(Git.Revwalk.SORT.TIME);\n",
    "    return walker.getCommitsUntil(c => true);\n",
    "})\n",
    ".then((commits) => {\n",
    "    \n",
    "});"
   ]
  },
  {
   "cell_type": "code",
   "execution_count": null,
   "metadata": {},
   "outputs": [],
   "source": []
  }
 ],
 "metadata": {
  "kernelspec": {
   "display_name": "Javascript (Node.js)",
   "language": "javascript",
   "name": "javascript"
  },
  "language_info": {
   "file_extension": ".js",
   "mimetype": "application/javascript",
   "name": "javascript",
   "version": "12.4.0"
  }
 },
 "nbformat": 4,
 "nbformat_minor": 4
}
